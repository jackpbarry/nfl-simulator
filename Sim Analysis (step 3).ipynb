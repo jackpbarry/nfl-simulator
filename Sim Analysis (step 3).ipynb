{
 "cells": [
  {
   "cell_type": "code",
   "execution_count": 7,
   "metadata": {},
   "outputs": [],
   "source": [
    "# sim_analysis.py\n",
    "\n",
    "# simulate second half of 2017 NFL season, final standings, playoffs\n",
    "# by: Jack Barry\n",
    "# created: 10/31/17\n",
    "\n",
    "import datetime\n",
    "import numpy as np\n",
    "import pandas as pd\n",
    "import pickle\n",
    "import matplotlib.pyplot as plt\n",
    "import calendar"
   ]
  },
  {
   "cell_type": "code",
   "execution_count": 8,
   "metadata": {},
   "outputs": [
    {
     "name": "stdout",
     "output_type": "stream",
     "text": [
      "Tm\n",
      "Philadelphia Eagles      9.0\n",
      "Los Angeles Rams        13.0\n",
      "New England Patriots    11.0\n",
      "Kansas City Chiefs      12.0\n",
      "New Orleans Saints      13.0\n",
      "Name: avg_W, dtype: float64\n",
      "Tm\n",
      "Philadelphia Eagles     7.0\n",
      "Los Angeles Rams        3.0\n",
      "New England Patriots    5.0\n",
      "Kansas City Chiefs      4.0\n",
      "New Orleans Saints      3.0\n",
      "Name: avg_L, dtype: float64\n",
      "Tm\n",
      "Philadelphia Eagles     0.452\n",
      "Los Angeles Rams          NaN\n",
      "New England Patriots      NaN\n",
      "Kansas City Chiefs        NaN\n",
      "New Orleans Saints        NaN\n",
      "Name: win_wildcard_percent, dtype: float64\n"
     ]
    }
   ],
   "source": [
    "############################### LOAD DATA, ANALYZE ###############################\n",
    "date = datetime.date.isoformat(datetime.date.today())\n",
    "path = 'pkls/sim_results_' +  date + '.pkl'\n",
    "\n",
    "# load in pickle\n",
    "with open(path, 'rb') as handle:\n",
    "    [results] = pickle.load(handle)\n",
    "\n",
    "results['avg_W'] = results.W.apply(np.mean)\n",
    "results['avg_L'] = results.L.apply(np.mean)\n",
    "results['avg_win_div'] = results.win_div.apply(np.mean)\n",
    "results['avg_wildcard'] = results.wildcard.apply(np.mean)\n",
    "results['make playoffs %'] = results.make_playoffs.apply(np.mean)\n",
    "results['avg_afc_seed'] = results.afc_seed.apply(np.mean)\n",
    "results['avg_nfc_seed'] = results.nfc_seed.apply(np.mean)\n",
    "results['win_wildcard_percent'] = results.win_rd_1.apply(np.mean)\n",
    "results['win_divisional_percent'] = results.win_rd_2.apply(np.mean)\n",
    "results['win_conference_percent'] = results.win_rd_3.apply(np.mean)\n",
    "results['win_superbowl_percent'] = results.win_rd_4.apply(np.mean)\n",
    "\n",
    "print(results.avg_W.head())\n",
    "print(results.avg_L.head())\n",
    "# print(results.win_div.head())\n",
    "# print(results.wildcard.head())\n",
    "# print(results.afc_seed.head())\n",
    "# print(results.nfc_seed.head())\n",
    "print(results.win_wildcard_percent.head())\n",
    "\n",
    "############################### EXPORT DATA ###############################\n",
    "# load in power ranks data to add to excel\n",
    "path = 'pkls/pwr_' +  date + '.pkl'\n",
    "\n",
    "# load in pickle\n",
    "with open(path, 'rb') as handle:\n",
    "    [df] = pickle.load(handle)\n",
    "\n",
    "# excel file\n",
    "path = 'spreadsheets/NFL_results_' + date + '.xls'\n",
    "\n",
    "# new writer object\n",
    "writer = pd.ExcelWriter(path)\n",
    "\n",
    "# add all sheets to object\n",
    "results.to_excel(writer, 'Simulation Results')\n",
    "df.to_excel(writer, 'Power Rankings')\n",
    "\n",
    "# save xls\n",
    "writer.save()"
   ]
  },
  {
   "cell_type": "code",
   "execution_count": null,
   "metadata": {},
   "outputs": [],
   "source": []
  },
  {
   "cell_type": "code",
   "execution_count": null,
   "metadata": {},
   "outputs": [],
   "source": []
  }
 ],
 "metadata": {
  "kernelspec": {
   "display_name": "Python 3",
   "language": "python",
   "name": "python3"
  },
  "language_info": {
   "codemirror_mode": {
    "name": "ipython",
    "version": 3
   },
   "file_extension": ".py",
   "mimetype": "text/x-python",
   "name": "python",
   "nbconvert_exporter": "python",
   "pygments_lexer": "ipython3",
   "version": "3.6.9"
  }
 },
 "nbformat": 4,
 "nbformat_minor": 4
}
