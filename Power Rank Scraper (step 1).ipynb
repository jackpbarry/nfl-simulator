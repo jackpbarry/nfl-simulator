{
 "cells": [
  {
   "cell_type": "code",
   "execution_count": 21,
   "metadata": {
    "code_folding": [
     0
    ]
   },
   "outputs": [],
   "source": [
    "# power_rank.py\n",
    "\n",
    "# NFL power ranking automation for Washington Post\n",
    "# Jack Barry\n",
    "\n",
    "# import stuff\n",
    "import datetime\n",
    "import numpy as np\n",
    "import pandas as pd\n",
    "import matplotlib.pyplot as plt\n",
    "import pickle\n",
    "\n",
    "############################### METHOD ###############################\n",
    "# The inputs are easy:\n",
    " \n",
    "# Team win percentage (W)\n",
    "# Team Pythagorean win percentage (P)\n",
    "# Opponent win percentage (O)\n",
    " \n",
    "# Then it is just (W+P)/2 * (O/.500) * 100\n",
    "\n",
    "# P = [(Points Scored)^2.37]/[(Points Scored)^2.37 + (Points Allowed)^2.37]\n",
    "\n",
    "############################### FUNCTIONS ###############################\n",
    "\n",
    "# function to read the regular season data for each year\n",
    "def read_standings(url):\n",
    "    # read data for given year\n",
    "    dfs = pd.read_html(url, skiprows=0, flavor='bs4')\n",
    "    # add separate dataframes (for separate conferences) to one DF\n",
    "    year_df = pd.DataFrame()\n",
    "    for df in dfs:\n",
    "        year_df = year_df.append(df, ignore_index=True)\n",
    "    # add column for year to df, fill with given year\n",
    "    year_df = year_df[pd.isnull(year_df.W) == False]\n",
    "    # fill null values\n",
    "    year_df\n",
    "    return year_df\n",
    "\n",
    "# CALCULATE AVG WIN FOR EACH TEAM\n",
    "def proj_lookup(team):\n",
    "    gp = int(team.W+team.L)\n",
    "    w = str(int(team.W))\n",
    "    return proj_wins.loc[gp, w]\n",
    "\n",
    "def opp_avg(team):\n",
    "    opp = team.Opponent\n",
    "    opp_pct = pwr.avg_wins[opp]\n",
    "    return opp_pct\n",
    "\n",
    "############################### IMPORT DATA ###############################\n",
    "\n",
    "# read in schedule\n",
    "sched = pd.read_csv('sched.csv')\n",
    "sched.rename(columns={'Unnamed: 2':'Date','Unnamed: 5':'at'}, inplace=True)\n",
    "\n",
    "####### UPDATE THIS LINE FOR WEEKLY SCHEDULE #######\n",
    "week_sched = sched.loc[sched['Week'] == 17]\n",
    "####### UPDATE THIS LINE FOR WEEKLY SCHEDULE #######\n",
    "\n",
    "# create full list of matchups, with both home and away (for merging with standings)\n",
    "matchups = pd.DataFrame()\n",
    "matchups['Tm'] = pd.concat(objs=[week_sched.HomeTm, week_sched.VisTm], ignore_index=True)\n",
    "matchups['Opp'] = pd.concat(objs=[week_sched.VisTm, week_sched.HomeTm], ignore_index=True)\n",
    "\n",
    "# read in 2018 team data\n",
    "stand_url = 'https://www.pro-football-reference.com/years/2018/'\n",
    "stand = read_standings(stand_url)\n",
    "\n",
    "stand.replace(to_replace={'New England Patriots*' : 'New England Patriots', 'Baltimore Ravens*' : 'Baltimore Ravens', 'Houston Texans*' : 'Houston Texans', 'Kansas City Chiefs*' : 'Kansas City Chiefs', 'Dallas Cowboys*' : 'Dallas Cowboys', 'Chicago Bears*' : 'Chicago Bears', 'New Orleans Saints*' : 'New Orleans Saints', 'Los Angeles Rams*' : 'Los Angeles Rams', 'Los Angeles Chargers+' : 'Los Angeles Chargers', 'Philadelphia Eagles+' : 'Philadelphia Eagles', 'Seattle Seahawks+' : 'Seattle Seahawks', 'Indianapolis Colts+' : 'Indianapolis Colts'}, inplace=True)\n",
    "\n",
    "# STATIC CSVS\n",
    "# read in csv for projected wins\n",
    "proj_wins = pd.read_csv('win_pct.csv', encoding=\"ISO-8859-1\")\n",
    "proj_wins.set_index('GP', inplace=True)\n",
    "\n",
    "# read in csv for all divisions\n",
    "divs = pd.read_csv('divs.csv', encoding=\"ISO-8859-1\")\n",
    "divs.set_index('Tm', inplace=True)\n",
    "\n",
    "# read in preseason projections\n",
    "preseason = pd.read_csv('preseason.csv')\n",
    "preseason.set_index('Team', inplace=True)\n",
    "\n",
    "# MERGE INTO DATAFRAME\n",
    "# merge schedule/matchup data\n",
    "df = pd.merge(stand, matchups, on='Tm', how='outer')\n",
    "\n",
    "df.set_index(keys='Tm', inplace=True)\n",
    "\n",
    "# add preseason to df\n",
    "df['preseason_proj_pct'] = preseason.pct\n",
    "\n",
    "# add divisions for each team\n",
    "df['division'] = divs['division']\n",
    "df['conference'] = divs['conference']\n",
    "\n",
    "# df.head(32)"
   ]
  },
  {
   "cell_type": "code",
   "execution_count": 22,
   "metadata": {
    "code_folding": [
     0
    ]
   },
   "outputs": [],
   "source": [
    "############################### Update late MNF result ###############################\n",
    "# # week 3: Pgh 30, Tampa 27\n",
    "\n",
    "# df.loc['New Orleans Saints', 'W'] = 12\n",
    "# df.loc['New Orleans Saints', 'PF'] = 459\n",
    "# df.loc['New Orleans Saints', 'PA'] = 292\n",
    "\n",
    "# df.loc['Carolina Panthers', 'L'] = 8\n",
    "# df.loc['Carolina Panthers', 'PF'] = 333\n",
    "# df.loc['Carolina Panthers', 'PA'] = 344\n",
    "# df.head(32)"
   ]
  },
  {
   "cell_type": "code",
   "execution_count": 23,
   "metadata": {
    "code_folding": [
     0
    ]
   },
   "outputs": [],
   "source": [
    "############################### CALCULATIONS ###############################\n",
    "# calculate pythagorean win percentage for each team\n",
    "df['Pyth_pct'] = df.PF**3/(df.PF**3 + df.PA**3)\n",
    "\n",
    "# # look up historical win percentage based on record (not needed for playoffs)\n",
    "# df['historical_win_pct'] = df.apply(proj_lookup, axis=1)\n",
    "\n",
    "# MODEL PERCENTAGE: [avg(pyth %, historical %), preseason %]/2\n",
    "df['model_pct'] = ((df['W-L%'] + df.Pyth_pct)/2)\n",
    "# df['model_pct_old'] = (((df.historical_win_pct + df.Pyth_pct)/2)+df.preseason_proj_pct)/2\n",
    "\n",
    "# reorder everything\n",
    "# df = df[['conference', 'division', 'W', 'L', 'T', 'W-L%', 'PF', 'PA', 'PD', 'MoV', 'SoS', 'SRS', 'OSRS', 'DSRS', 'Opp', 'preseason_proj_pct', 'historical_win_pct', 'Pyth_pct', 'model_pct', 'model_pct_old']]\n",
    "\n",
    "# ############################### CALCULATE RANKS ###############################\n",
    "\n",
    "# # calculate (W+P)/2\n",
    "# df['W_pct'] = (df['W-L%'] + df.Pyth)/2\n",
    "\n",
    "# # Then it is just (W+P)/2 * (O/.500) * 100\n",
    "# pwr['current_rank'] = pwr.avg_wins*(pwr.opp_avg_pct/.5)*100\n",
    "\n",
    "# # average pythagorean wins and historical projections\n",
    "# pwr['avg_wins'] = (pwr.Pyth + pwr.proj_wins)/2\n",
    "\n",
    "# # find avg for each team/opponent\n",
    "# opps['opp_rate'] = opps.apply(opp_avg, axis=1)\n",
    "\n",
    "# # numbered ranks\n",
    "# pwr['current_order'] = pwr.current_rank.rank(ascending=False)\n",
    "\n",
    "# df.head()"
   ]
  },
  {
   "cell_type": "code",
   "execution_count": 24,
   "metadata": {
    "code_folding": []
   },
   "outputs": [],
   "source": [
    "df.loc['Baltimore Ravens', 'model_pct'] = 0.00001\n",
    "df.loc['Houston Texans', 'model_pct'] = 0.00001\n",
    "df.loc['Chicago Bears', 'model_pct'] = 0.00001\n",
    "df.loc['Seattle Seahawks', 'model_pct'] = 0.00001\n",
    "df.loc['Los Angeles Chargers', 'model_pct'] = 0.00001\n",
    "df.loc['Dallas Cowboys', 'model_pct'] = 0.00001\n",
    "df.loc['Philadelphia Eagles', 'model_pct'] = 0.00001\n",
    "df.loc['Indianapolis Colts', 'model_pct'] = 0.00001\n",
    "\n",
    "# print(len(df))\n",
    "# print(df.index)\n",
    "# df.head(42)"
   ]
  },
  {
   "cell_type": "code",
   "execution_count": 25,
   "metadata": {
    "code_folding": [
     0
    ]
   },
   "outputs": [],
   "source": [
    "############################## SAVE DATA ###############################\n",
    "date = datetime.date.isoformat(datetime.date.today())\n",
    "\n",
    "# dataframes we need to keep\n",
    "data = [df]\n",
    "\n",
    "# create pickle object\n",
    "with open('pkls/pwr_' +  date + '.pkl', 'wb') as handle:\n",
    "    pickle.dump(data, handle)"
   ]
  },
  {
   "cell_type": "code",
   "execution_count": 66,
   "metadata": {
    "code_folding": [
     0
    ]
   },
   "outputs": [],
   "source": [
    "################################### UNUSED CODE ####################################\n",
    "\n",
    "########### AVERAGE ALL OPPONENTS WIN PERCENTS ###########\n",
    "# # group each team's opponents together, calculate mean opp win%\n",
    "# grouped = opps.groupby(by='Team')\n",
    "# # add to pwr dataframe\n",
    "# pwr['opp_avg_pct'] = grouped.opp_rate.mean()\n",
    "\n",
    "\n",
    "########### READ SCHEDULE FROM PRO FOOTBALL REF ###########\n",
    "# # function to read the regular season data for each year\n",
    "# # not used\n",
    "# def read_schedule(url, week):\n",
    "#     # read data for given year\n",
    "#     df = pd.read_html(url, skiprows=0, flavor='bs4')[0]\n",
    "#     cols = ['Week', 'Day', 'Date', 'Time', 'Visitor', 'at', 'Home', 'preview', 'PtsW', 'PtsL', 'YdsW', 'TOW', 'YdsL', 'TOL']\n",
    "#     df.columns = cols\n",
    "#     df = df[df.preview =='preview']\n",
    "#     df = df[df.Week == week]\n",
    "#     # fill null values\n",
    "#     return df"
   ]
  }
 ],
 "metadata": {
  "kernelspec": {
   "display_name": "Python 3",
   "language": "python",
   "name": "python3"
  },
  "language_info": {
   "codemirror_mode": {
    "name": "ipython",
    "version": 3
   },
   "file_extension": ".py",
   "mimetype": "text/x-python",
   "name": "python",
   "nbconvert_exporter": "python",
   "pygments_lexer": "ipython3",
   "version": "3.6.5"
  }
 },
 "nbformat": 4,
 "nbformat_minor": 2
}
